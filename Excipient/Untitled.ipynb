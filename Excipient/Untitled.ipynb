{
 "cells": [
  {
   "cell_type": "code",
   "execution_count": 5,
   "id": "f7021e14-afb1-400c-beb2-9f92f2de72d6",
   "metadata": {},
   "outputs": [
    {
     "ename": "SyntaxError",
     "evalue": "invalid syntax (<ipython-input-5-f1854c140e2e>, line 4)",
     "output_type": "error",
     "traceback": [
      "\u001b[1;36m  File \u001b[1;32m\"<ipython-input-5-f1854c140e2e>\"\u001b[1;36m, line \u001b[1;32m4\u001b[0m\n\u001b[1;33m    str[0] in {'(','{','['}:\u001b[0m\n\u001b[1;37m                            ^\u001b[0m\n\u001b[1;31mSyntaxError\u001b[0m\u001b[1;31m:\u001b[0m invalid syntax\n"
     ]
    }
   ],
   "source": [
    "str = '()[]'\n",
    "stk = []\n",
    "def GetSTR(str):\n",
    "    str[0] in {'(','{','['}:\n",
    "            return False\n",
    "    for i in range(str.len()):\n",
    "        if str[i] in {'(','{','['} :\n",
    "            stk.append(str(i))\n",
    "        elif str[i]==')':\n",
    "            if stk.pop()!='(':\n",
    "                print(\"invalid\")\n",
    "                return False\n",
    "        elif str[i] == '}':\n",
    "                if stk.pop()!='{':\n",
    "                print(\"invalid\")\n",
    "                return False  \n",
    "        elif str[i] == ']':\n",
    "                if stk.pop()!='[':\n",
    "                print(\"invalid\")\n",
    "                return False\n",
    "        \n",
    "        "
   ]
  },
  {
   "cell_type": "code",
   "execution_count": null,
   "id": "6b5e8b31-ab19-452d-a72a-6b2a9dfdabea",
   "metadata": {},
   "outputs": [],
   "source": []
  }
 ],
 "metadata": {
  "kernelspec": {
   "display_name": "Python 3",
   "language": "python",
   "name": "python3"
  },
  "language_info": {
   "codemirror_mode": {
    "name": "ipython",
    "version": 3
   },
   "file_extension": ".py",
   "mimetype": "text/x-python",
   "name": "python",
   "nbconvert_exporter": "python",
   "pygments_lexer": "ipython3",
   "version": "3.8.8"
  }
 },
 "nbformat": 4,
 "nbformat_minor": 5
}
